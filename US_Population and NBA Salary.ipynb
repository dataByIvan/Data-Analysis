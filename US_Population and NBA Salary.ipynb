{
 "cells": [
  {
   "cell_type": "code",
   "execution_count": 1,
   "id": "ff99fc98-1db3-4cc8-be92-0ee1f4b41dc3",
   "metadata": {},
   "outputs": [
    {
     "name": "stderr",
     "output_type": "stream",
     "text": [
      "Matplotlib is building the font cache; this may take a moment.\n"
     ]
    }
   ],
   "source": [
    "import numpy as np\n",
    "import pandas as pd\n",
    "import matplotlib.pyplot as plt"
   ]
  },
  {
   "cell_type": "code",
   "execution_count": 11,
   "id": "e81351b0-7296-4baa-85c4-77dedc6831b2",
   "metadata": {},
   "outputs": [],
   "source": [
    "df = pd.read_csv(\"us_state_pop_2024.csv\")"
   ]
  },
  {
   "cell_type": "code",
   "execution_count": 12,
   "id": "10c60d2d-0e24-4acc-b860-dabcc9a6fc76",
   "metadata": {},
   "outputs": [
    {
     "data": {
      "text/html": [
       "<div>\n",
       "<style scoped>\n",
       "    .dataframe tbody tr th:only-of-type {\n",
       "        vertical-align: middle;\n",
       "    }\n",
       "\n",
       "    .dataframe tbody tr th {\n",
       "        vertical-align: top;\n",
       "    }\n",
       "\n",
       "    .dataframe thead th {\n",
       "        text-align: right;\n",
       "    }\n",
       "</style>\n",
       "<table border=\"1\" class=\"dataframe\">\n",
       "  <thead>\n",
       "    <tr style=\"text-align: right;\">\n",
       "      <th></th>\n",
       "      <th>State</th>\n",
       "      <th>Population</th>\n",
       "      <th>Adult_Population</th>\n",
       "      <th>sq_miles</th>\n",
       "      <th>Coast</th>\n",
       "    </tr>\n",
       "  </thead>\n",
       "  <tbody>\n",
       "    <tr>\n",
       "      <th>0</th>\n",
       "      <td>Alabama</td>\n",
       "      <td>5157699</td>\n",
       "      <td>4022842</td>\n",
       "      <td>52420</td>\n",
       "      <td>GM</td>\n",
       "    </tr>\n",
       "    <tr>\n",
       "      <th>1</th>\n",
       "      <td>Alaska</td>\n",
       "      <td>740133</td>\n",
       "      <td>565186</td>\n",
       "      <td>665384</td>\n",
       "      <td>PO</td>\n",
       "    </tr>\n",
       "    <tr>\n",
       "      <th>2</th>\n",
       "      <td>Arizona</td>\n",
       "      <td>7582384</td>\n",
       "      <td>5994209</td>\n",
       "      <td>113990</td>\n",
       "      <td>NaN</td>\n",
       "    </tr>\n",
       "    <tr>\n",
       "      <th>3</th>\n",
       "      <td>Arkansas</td>\n",
       "      <td>3088354</td>\n",
       "      <td>2386510</td>\n",
       "      <td>53179</td>\n",
       "      <td>NaN</td>\n",
       "    </tr>\n",
       "    <tr>\n",
       "      <th>4</th>\n",
       "      <td>California</td>\n",
       "      <td>39431263</td>\n",
       "      <td>31012711</td>\n",
       "      <td>163695</td>\n",
       "      <td>PO</td>\n",
       "    </tr>\n",
       "  </tbody>\n",
       "</table>\n",
       "</div>"
      ],
      "text/plain": [
       "        State  Population  Adult_Population  sq_miles Coast\n",
       "0     Alabama     5157699           4022842     52420    GM\n",
       "1      Alaska      740133            565186    665384    PO\n",
       "2     Arizona     7582384           5994209    113990   NaN\n",
       "3    Arkansas     3088354           2386510     53179   NaN\n",
       "4  California    39431263          31012711    163695    PO"
      ]
     },
     "execution_count": 12,
     "metadata": {},
     "output_type": "execute_result"
    }
   ],
   "source": [
    "df.head()"
   ]
  },
  {
   "cell_type": "code",
   "execution_count": 5,
   "id": "d767755b-3c8b-402b-8280-55f87e962128",
   "metadata": {},
   "outputs": [],
   "source": [
    "df['PopulationM'] = round(df['Population']/1000000, 2)"
   ]
  },
  {
   "cell_type": "code",
   "execution_count": 6,
   "id": "69a684c2-34cb-4df8-8f37-4ad02c0cb9a9",
   "metadata": {},
   "outputs": [
    {
     "data": {
      "text/html": [
       "<div>\n",
       "<style scoped>\n",
       "    .dataframe tbody tr th:only-of-type {\n",
       "        vertical-align: middle;\n",
       "    }\n",
       "\n",
       "    .dataframe tbody tr th {\n",
       "        vertical-align: top;\n",
       "    }\n",
       "\n",
       "    .dataframe thead th {\n",
       "        text-align: right;\n",
       "    }\n",
       "</style>\n",
       "<table border=\"1\" class=\"dataframe\">\n",
       "  <thead>\n",
       "    <tr style=\"text-align: right;\">\n",
       "      <th></th>\n",
       "      <th>State</th>\n",
       "      <th>Population</th>\n",
       "      <th>Adult_Population</th>\n",
       "      <th>sq_miles</th>\n",
       "      <th>Coast</th>\n",
       "      <th>PopulationM</th>\n",
       "    </tr>\n",
       "  </thead>\n",
       "  <tbody>\n",
       "    <tr>\n",
       "      <th>0</th>\n",
       "      <td>Alabama</td>\n",
       "      <td>5157699</td>\n",
       "      <td>4022842</td>\n",
       "      <td>52420</td>\n",
       "      <td>GM</td>\n",
       "      <td>5.16</td>\n",
       "    </tr>\n",
       "    <tr>\n",
       "      <th>1</th>\n",
       "      <td>Alaska</td>\n",
       "      <td>740133</td>\n",
       "      <td>565186</td>\n",
       "      <td>665384</td>\n",
       "      <td>PO</td>\n",
       "      <td>0.74</td>\n",
       "    </tr>\n",
       "    <tr>\n",
       "      <th>2</th>\n",
       "      <td>Arizona</td>\n",
       "      <td>7582384</td>\n",
       "      <td>5994209</td>\n",
       "      <td>113990</td>\n",
       "      <td>NaN</td>\n",
       "      <td>7.58</td>\n",
       "    </tr>\n",
       "    <tr>\n",
       "      <th>3</th>\n",
       "      <td>Arkansas</td>\n",
       "      <td>3088354</td>\n",
       "      <td>2386510</td>\n",
       "      <td>53179</td>\n",
       "      <td>NaN</td>\n",
       "      <td>3.09</td>\n",
       "    </tr>\n",
       "    <tr>\n",
       "      <th>4</th>\n",
       "      <td>California</td>\n",
       "      <td>39431263</td>\n",
       "      <td>31012711</td>\n",
       "      <td>163695</td>\n",
       "      <td>PO</td>\n",
       "      <td>39.43</td>\n",
       "    </tr>\n",
       "  </tbody>\n",
       "</table>\n",
       "</div>"
      ],
      "text/plain": [
       "        State  Population  Adult_Population  sq_miles Coast  PopulationM\n",
       "0     Alabama     5157699           4022842     52420    GM         5.16\n",
       "1      Alaska      740133            565186    665384    PO         0.74\n",
       "2     Arizona     7582384           5994209    113990   NaN         7.58\n",
       "3    Arkansas     3088354           2386510     53179   NaN         3.09\n",
       "4  California    39431263          31012711    163695    PO        39.43"
      ]
     },
     "execution_count": 6,
     "metadata": {},
     "output_type": "execute_result"
    }
   ],
   "source": [
    "df.head()"
   ]
  },
  {
   "cell_type": "code",
   "execution_count": 7,
   "id": "a05d1905-2554-405b-a748-4602e6ef4f51",
   "metadata": {},
   "outputs": [
    {
     "data": {
      "text/plain": [
       "(51, 6)"
      ]
     },
     "execution_count": 7,
     "metadata": {},
     "output_type": "execute_result"
    }
   ],
   "source": [
    "df.shape"
   ]
  },
  {
   "cell_type": "code",
   "execution_count": 8,
   "id": "c74f2dea-4aab-4375-8e52-ae75feaf2734",
   "metadata": {},
   "outputs": [
    {
     "data": {
      "text/plain": [
       "State                object\n",
       "Population            int64\n",
       "Adult_Population      int64\n",
       "sq_miles              int64\n",
       "Coast                object\n",
       "PopulationM         float64\n",
       "dtype: object"
      ]
     },
     "execution_count": 8,
     "metadata": {},
     "output_type": "execute_result"
    }
   ],
   "source": [
    "df.dtypes"
   ]
  },
  {
   "cell_type": "code",
   "execution_count": 13,
   "id": "bd205bea-978f-43f7-831f-49666cc6535f",
   "metadata": {},
   "outputs": [
    {
     "data": {
      "text/html": [
       "<div>\n",
       "<style scoped>\n",
       "    .dataframe tbody tr th:only-of-type {\n",
       "        vertical-align: middle;\n",
       "    }\n",
       "\n",
       "    .dataframe tbody tr th {\n",
       "        vertical-align: top;\n",
       "    }\n",
       "\n",
       "    .dataframe thead th {\n",
       "        text-align: right;\n",
       "    }\n",
       "</style>\n",
       "<table border=\"1\" class=\"dataframe\">\n",
       "  <thead>\n",
       "    <tr style=\"text-align: right;\">\n",
       "      <th></th>\n",
       "      <th>Population</th>\n",
       "      <th>Adult_Population</th>\n",
       "      <th>sq_miles</th>\n",
       "      <th>Coast</th>\n",
       "    </tr>\n",
       "    <tr>\n",
       "      <th>State</th>\n",
       "      <th></th>\n",
       "      <th></th>\n",
       "      <th></th>\n",
       "      <th></th>\n",
       "    </tr>\n",
       "  </thead>\n",
       "  <tbody>\n",
       "    <tr>\n",
       "      <th>Alabama</th>\n",
       "      <td>5157699</td>\n",
       "      <td>4022842</td>\n",
       "      <td>52420</td>\n",
       "      <td>GM</td>\n",
       "    </tr>\n",
       "    <tr>\n",
       "      <th>Alaska</th>\n",
       "      <td>740133</td>\n",
       "      <td>565186</td>\n",
       "      <td>665384</td>\n",
       "      <td>PO</td>\n",
       "    </tr>\n",
       "    <tr>\n",
       "      <th>Arizona</th>\n",
       "      <td>7582384</td>\n",
       "      <td>5994209</td>\n",
       "      <td>113990</td>\n",
       "      <td>NaN</td>\n",
       "    </tr>\n",
       "    <tr>\n",
       "      <th>Arkansas</th>\n",
       "      <td>3088354</td>\n",
       "      <td>2386510</td>\n",
       "      <td>53179</td>\n",
       "      <td>NaN</td>\n",
       "    </tr>\n",
       "    <tr>\n",
       "      <th>California</th>\n",
       "      <td>39431263</td>\n",
       "      <td>31012711</td>\n",
       "      <td>163695</td>\n",
       "      <td>PO</td>\n",
       "    </tr>\n",
       "  </tbody>\n",
       "</table>\n",
       "</div>"
      ],
      "text/plain": [
       "            Population  Adult_Population  sq_miles Coast\n",
       "State                                                   \n",
       "Alabama        5157699           4022842     52420    GM\n",
       "Alaska          740133            565186    665384    PO\n",
       "Arizona        7582384           5994209    113990   NaN\n",
       "Arkansas       3088354           2386510     53179   NaN\n",
       "California    39431263          31012711    163695    PO"
      ]
     },
     "execution_count": 13,
     "metadata": {},
     "output_type": "execute_result"
    }
   ],
   "source": [
    "df.set_index(\"State\", inplace = True)\n",
    "df.head()"
   ]
  },
  {
   "cell_type": "code",
   "execution_count": 14,
   "id": "611a317c-5ac9-4fe1-b223-50b48924e6a6",
   "metadata": {},
   "outputs": [
    {
     "data": {
      "text/plain": [
       "Population          5957493\n",
       "Adult_Population    4744328\n",
       "sq_miles             104094\n",
       "Coast                   NaN\n",
       "Name: Colorado, dtype: object"
      ]
     },
     "execution_count": 14,
     "metadata": {},
     "output_type": "execute_result"
    }
   ],
   "source": [
    "df.loc['Colorado']"
   ]
  },
  {
   "cell_type": "code",
   "execution_count": 15,
   "id": "d114305b-0dc9-4378-981e-b7c9286971ba",
   "metadata": {},
   "outputs": [
    {
     "data": {
      "text/html": [
       "<div>\n",
       "<style scoped>\n",
       "    .dataframe tbody tr th:only-of-type {\n",
       "        vertical-align: middle;\n",
       "    }\n",
       "\n",
       "    .dataframe tbody tr th {\n",
       "        vertical-align: top;\n",
       "    }\n",
       "\n",
       "    .dataframe thead th {\n",
       "        text-align: right;\n",
       "    }\n",
       "</style>\n",
       "<table border=\"1\" class=\"dataframe\">\n",
       "  <thead>\n",
       "    <tr style=\"text-align: right;\">\n",
       "      <th></th>\n",
       "      <th>Population</th>\n",
       "      <th>Adult_Population</th>\n",
       "      <th>sq_miles</th>\n",
       "      <th>Coast</th>\n",
       "    </tr>\n",
       "    <tr>\n",
       "      <th>State</th>\n",
       "      <th></th>\n",
       "      <th></th>\n",
       "      <th></th>\n",
       "      <th></th>\n",
       "    </tr>\n",
       "  </thead>\n",
       "  <tbody>\n",
       "    <tr>\n",
       "      <th>California</th>\n",
       "      <td>39431263</td>\n",
       "      <td>31012711</td>\n",
       "      <td>163695</td>\n",
       "      <td>PO</td>\n",
       "    </tr>\n",
       "    <tr>\n",
       "      <th>Colorado</th>\n",
       "      <td>5957493</td>\n",
       "      <td>4744328</td>\n",
       "      <td>104094</td>\n",
       "      <td>NaN</td>\n",
       "    </tr>\n",
       "    <tr>\n",
       "      <th>Connecticut</th>\n",
       "      <td>3675069</td>\n",
       "      <td>2947242</td>\n",
       "      <td>5543</td>\n",
       "      <td>AO</td>\n",
       "    </tr>\n",
       "    <tr>\n",
       "      <th>Delaware</th>\n",
       "      <td>1051917</td>\n",
       "      <td>838204</td>\n",
       "      <td>2489</td>\n",
       "      <td>AO</td>\n",
       "    </tr>\n",
       "    <tr>\n",
       "      <th>DC</th>\n",
       "      <td>702250</td>\n",
       "      <td>572419</td>\n",
       "      <td>68</td>\n",
       "      <td>NaN</td>\n",
       "    </tr>\n",
       "    <tr>\n",
       "      <th>Florida</th>\n",
       "      <td>23372215</td>\n",
       "      <td>18872523</td>\n",
       "      <td>65758</td>\n",
       "      <td>AO, GM</td>\n",
       "    </tr>\n",
       "  </tbody>\n",
       "</table>\n",
       "</div>"
      ],
      "text/plain": [
       "             Population  Adult_Population  sq_miles   Coast\n",
       "State                                                      \n",
       "California     39431263          31012711    163695      PO\n",
       "Colorado        5957493           4744328    104094     NaN\n",
       "Connecticut     3675069           2947242      5543      AO\n",
       "Delaware        1051917            838204      2489      AO\n",
       "DC               702250            572419        68     NaN\n",
       "Florida        23372215          18872523     65758  AO, GM"
      ]
     },
     "execution_count": 15,
     "metadata": {},
     "output_type": "execute_result"
    }
   ],
   "source": [
    "df.loc['California':'Florida']"
   ]
  },
  {
   "cell_type": "code",
   "execution_count": 18,
   "id": "5e78543b-055c-4a21-b047-e5a4121e2b35",
   "metadata": {},
   "outputs": [],
   "source": [
    "df.reset_index(inplace=True)"
   ]
  },
  {
   "cell_type": "code",
   "execution_count": 19,
   "id": "1128adb3-ceef-425a-b2c2-b02216a8782f",
   "metadata": {},
   "outputs": [
    {
     "data": {
      "text/html": [
       "<div>\n",
       "<style scoped>\n",
       "    .dataframe tbody tr th:only-of-type {\n",
       "        vertical-align: middle;\n",
       "    }\n",
       "\n",
       "    .dataframe tbody tr th {\n",
       "        vertical-align: top;\n",
       "    }\n",
       "\n",
       "    .dataframe thead th {\n",
       "        text-align: right;\n",
       "    }\n",
       "</style>\n",
       "<table border=\"1\" class=\"dataframe\">\n",
       "  <thead>\n",
       "    <tr style=\"text-align: right;\">\n",
       "      <th></th>\n",
       "      <th>index</th>\n",
       "      <th>State</th>\n",
       "      <th>Population</th>\n",
       "      <th>Adult_Population</th>\n",
       "      <th>sq_miles</th>\n",
       "      <th>Coast</th>\n",
       "    </tr>\n",
       "  </thead>\n",
       "  <tbody>\n",
       "    <tr>\n",
       "      <th>0</th>\n",
       "      <td>0</td>\n",
       "      <td>Alabama</td>\n",
       "      <td>5157699</td>\n",
       "      <td>4022842</td>\n",
       "      <td>52420</td>\n",
       "      <td>GM</td>\n",
       "    </tr>\n",
       "    <tr>\n",
       "      <th>1</th>\n",
       "      <td>1</td>\n",
       "      <td>Alaska</td>\n",
       "      <td>740133</td>\n",
       "      <td>565186</td>\n",
       "      <td>665384</td>\n",
       "      <td>PO</td>\n",
       "    </tr>\n",
       "    <tr>\n",
       "      <th>2</th>\n",
       "      <td>2</td>\n",
       "      <td>Arizona</td>\n",
       "      <td>7582384</td>\n",
       "      <td>5994209</td>\n",
       "      <td>113990</td>\n",
       "      <td>NaN</td>\n",
       "    </tr>\n",
       "    <tr>\n",
       "      <th>3</th>\n",
       "      <td>3</td>\n",
       "      <td>Arkansas</td>\n",
       "      <td>3088354</td>\n",
       "      <td>2386510</td>\n",
       "      <td>53179</td>\n",
       "      <td>NaN</td>\n",
       "    </tr>\n",
       "    <tr>\n",
       "      <th>4</th>\n",
       "      <td>4</td>\n",
       "      <td>California</td>\n",
       "      <td>39431263</td>\n",
       "      <td>31012711</td>\n",
       "      <td>163695</td>\n",
       "      <td>PO</td>\n",
       "    </tr>\n",
       "  </tbody>\n",
       "</table>\n",
       "</div>"
      ],
      "text/plain": [
       "   index       State  Population  Adult_Population  sq_miles Coast\n",
       "0      0     Alabama     5157699           4022842     52420    GM\n",
       "1      1      Alaska      740133            565186    665384    PO\n",
       "2      2     Arizona     7582384           5994209    113990   NaN\n",
       "3      3    Arkansas     3088354           2386510     53179   NaN\n",
       "4      4  California    39431263          31012711    163695    PO"
      ]
     },
     "execution_count": 19,
     "metadata": {},
     "output_type": "execute_result"
    }
   ],
   "source": [
    "df.head()"
   ]
  },
  {
   "cell_type": "markdown",
   "id": "43633c1b-85f5-4f28-bf5a-e43cab4595d1",
   "metadata": {},
   "source": [
    "Compute % of kids in each State"
   ]
  },
  {
   "cell_type": "code",
   "execution_count": 21,
   "id": "0627f454-8fd3-486c-82c9-57cfcab1d914",
   "metadata": {},
   "outputs": [],
   "source": [
    "df[\"Kids Percentage\"] = round(100*(df['Population'] - df[\"Adult_Population\"])/df['Population'], 2)"
   ]
  },
  {
   "cell_type": "code",
   "execution_count": 32,
   "id": "6b7c48bd-3c8a-4084-afd6-e907f40e02b4",
   "metadata": {},
   "outputs": [
    {
     "data": {
      "text/html": [
       "<div>\n",
       "<style scoped>\n",
       "    .dataframe tbody tr th:only-of-type {\n",
       "        vertical-align: middle;\n",
       "    }\n",
       "\n",
       "    .dataframe tbody tr th {\n",
       "        vertical-align: top;\n",
       "    }\n",
       "\n",
       "    .dataframe thead th {\n",
       "        text-align: right;\n",
       "    }\n",
       "</style>\n",
       "<table border=\"1\" class=\"dataframe\">\n",
       "  <thead>\n",
       "    <tr style=\"text-align: right;\">\n",
       "      <th></th>\n",
       "      <th>index</th>\n",
       "      <th>State</th>\n",
       "      <th>Population</th>\n",
       "      <th>Adult_Population</th>\n",
       "      <th>sq_miles</th>\n",
       "      <th>Coast</th>\n",
       "      <th>Kids Percentage</th>\n",
       "    </tr>\n",
       "  </thead>\n",
       "  <tbody>\n",
       "    <tr>\n",
       "      <th>44</th>\n",
       "      <td>44</td>\n",
       "      <td>Utah</td>\n",
       "      <td>3503613</td>\n",
       "      <td>2569984</td>\n",
       "      <td>84897</td>\n",
       "      <td>NaN</td>\n",
       "      <td>26.65</td>\n",
       "    </tr>\n",
       "    <tr>\n",
       "      <th>43</th>\n",
       "      <td>43</td>\n",
       "      <td>Texas</td>\n",
       "      <td>31290831</td>\n",
       "      <td>23625608</td>\n",
       "      <td>268596</td>\n",
       "      <td>GM</td>\n",
       "      <td>24.50</td>\n",
       "    </tr>\n",
       "    <tr>\n",
       "      <th>27</th>\n",
       "      <td>27</td>\n",
       "      <td>Nebraska</td>\n",
       "      <td>2005465</td>\n",
       "      <td>1521153</td>\n",
       "      <td>77348</td>\n",
       "      <td>NaN</td>\n",
       "      <td>24.15</td>\n",
       "    </tr>\n",
       "    <tr>\n",
       "      <th>41</th>\n",
       "      <td>41</td>\n",
       "      <td>South Dakota</td>\n",
       "      <td>924669</td>\n",
       "      <td>703963</td>\n",
       "      <td>77116</td>\n",
       "      <td>NaN</td>\n",
       "      <td>23.87</td>\n",
       "    </tr>\n",
       "    <tr>\n",
       "      <th>1</th>\n",
       "      <td>1</td>\n",
       "      <td>Alaska</td>\n",
       "      <td>740133</td>\n",
       "      <td>565186</td>\n",
       "      <td>665384</td>\n",
       "      <td>PO</td>\n",
       "      <td>23.64</td>\n",
       "    </tr>\n",
       "    <tr>\n",
       "      <th>36</th>\n",
       "      <td>36</td>\n",
       "      <td>Oklahoma</td>\n",
       "      <td>4095393</td>\n",
       "      <td>3129179</td>\n",
       "      <td>69899</td>\n",
       "      <td>NaN</td>\n",
       "      <td>23.59</td>\n",
       "    </tr>\n",
       "    <tr>\n",
       "      <th>12</th>\n",
       "      <td>12</td>\n",
       "      <td>Idaho</td>\n",
       "      <td>2001619</td>\n",
       "      <td>1533172</td>\n",
       "      <td>83569</td>\n",
       "      <td>NaN</td>\n",
       "      <td>23.40</td>\n",
       "    </tr>\n",
       "    <tr>\n",
       "      <th>16</th>\n",
       "      <td>16</td>\n",
       "      <td>Kansas</td>\n",
       "      <td>2970606</td>\n",
       "      <td>2278027</td>\n",
       "      <td>82278</td>\n",
       "      <td>NaN</td>\n",
       "      <td>23.31</td>\n",
       "    </tr>\n",
       "    <tr>\n",
       "      <th>34</th>\n",
       "      <td>34</td>\n",
       "      <td>North Dakota</td>\n",
       "      <td>796568</td>\n",
       "      <td>611305</td>\n",
       "      <td>70698</td>\n",
       "      <td>NaN</td>\n",
       "      <td>23.26</td>\n",
       "    </tr>\n",
       "    <tr>\n",
       "      <th>18</th>\n",
       "      <td>18</td>\n",
       "      <td>Louisiana</td>\n",
       "      <td>4597740</td>\n",
       "      <td>3531346</td>\n",
       "      <td>52378</td>\n",
       "      <td>GM</td>\n",
       "      <td>23.19</td>\n",
       "    </tr>\n",
       "  </tbody>\n",
       "</table>\n",
       "</div>"
      ],
      "text/plain": [
       "    index         State  Population  Adult_Population  sq_miles Coast  \\\n",
       "44     44          Utah     3503613           2569984     84897   NaN   \n",
       "43     43         Texas    31290831          23625608    268596    GM   \n",
       "27     27      Nebraska     2005465           1521153     77348   NaN   \n",
       "41     41  South Dakota      924669            703963     77116   NaN   \n",
       "1       1        Alaska      740133            565186    665384    PO   \n",
       "36     36      Oklahoma     4095393           3129179     69899   NaN   \n",
       "12     12         Idaho     2001619           1533172     83569   NaN   \n",
       "16     16        Kansas     2970606           2278027     82278   NaN   \n",
       "34     34  North Dakota      796568            611305     70698   NaN   \n",
       "18     18     Louisiana     4597740           3531346     52378    GM   \n",
       "\n",
       "    Kids Percentage  \n",
       "44            26.65  \n",
       "43            24.50  \n",
       "27            24.15  \n",
       "41            23.87  \n",
       "1             23.64  \n",
       "36            23.59  \n",
       "12            23.40  \n",
       "16            23.31  \n",
       "34            23.26  \n",
       "18            23.19  "
      ]
     },
     "execution_count": 32,
     "metadata": {},
     "output_type": "execute_result"
    }
   ],
   "source": [
    "df.sort_values(\"Kids Percentage\", ascending = False).head(10)"
   ]
  },
  {
   "cell_type": "code",
   "execution_count": 33,
   "id": "cf646b4c-14b2-4f66-a98c-f6c31f8b37d5",
   "metadata": {},
   "outputs": [
    {
     "data": {
      "text/html": [
       "<div>\n",
       "<style scoped>\n",
       "    .dataframe tbody tr th:only-of-type {\n",
       "        vertical-align: middle;\n",
       "    }\n",
       "\n",
       "    .dataframe tbody tr th {\n",
       "        vertical-align: top;\n",
       "    }\n",
       "\n",
       "    .dataframe thead th {\n",
       "        text-align: right;\n",
       "    }\n",
       "</style>\n",
       "<table border=\"1\" class=\"dataframe\">\n",
       "  <thead>\n",
       "    <tr style=\"text-align: right;\">\n",
       "      <th></th>\n",
       "      <th>index</th>\n",
       "      <th>State</th>\n",
       "      <th>Population</th>\n",
       "      <th>Adult_Population</th>\n",
       "      <th>sq_miles</th>\n",
       "      <th>Coast</th>\n",
       "      <th>Kids Percentage</th>\n",
       "    </tr>\n",
       "  </thead>\n",
       "  <tbody>\n",
       "    <tr>\n",
       "      <th>6</th>\n",
       "      <td>6</td>\n",
       "      <td>Connecticut</td>\n",
       "      <td>3675069</td>\n",
       "      <td>2947242</td>\n",
       "      <td>5543</td>\n",
       "      <td>AO</td>\n",
       "      <td>19.80</td>\n",
       "    </tr>\n",
       "    <tr>\n",
       "      <th>48</th>\n",
       "      <td>48</td>\n",
       "      <td>West Virginia</td>\n",
       "      <td>1769979</td>\n",
       "      <td>1421615</td>\n",
       "      <td>24230</td>\n",
       "      <td>NaN</td>\n",
       "      <td>19.68</td>\n",
       "    </tr>\n",
       "    <tr>\n",
       "      <th>37</th>\n",
       "      <td>37</td>\n",
       "      <td>Oregon</td>\n",
       "      <td>4272371</td>\n",
       "      <td>3446156</td>\n",
       "      <td>98379</td>\n",
       "      <td>PO</td>\n",
       "      <td>19.34</td>\n",
       "    </tr>\n",
       "    <tr>\n",
       "      <th>9</th>\n",
       "      <td>9</td>\n",
       "      <td>Florida</td>\n",
       "      <td>23372215</td>\n",
       "      <td>18872523</td>\n",
       "      <td>65758</td>\n",
       "      <td>AO, GM</td>\n",
       "      <td>19.25</td>\n",
       "    </tr>\n",
       "    <tr>\n",
       "      <th>21</th>\n",
       "      <td>21</td>\n",
       "      <td>Massachusetts</td>\n",
       "      <td>7136171</td>\n",
       "      <td>5780452</td>\n",
       "      <td>10554</td>\n",
       "      <td>AO</td>\n",
       "      <td>19.00</td>\n",
       "    </tr>\n",
       "    <tr>\n",
       "      <th>8</th>\n",
       "      <td>8</td>\n",
       "      <td>DC</td>\n",
       "      <td>702250</td>\n",
       "      <td>572419</td>\n",
       "      <td>68</td>\n",
       "      <td>NaN</td>\n",
       "      <td>18.49</td>\n",
       "    </tr>\n",
       "    <tr>\n",
       "      <th>39</th>\n",
       "      <td>39</td>\n",
       "      <td>Rhode Island</td>\n",
       "      <td>1112308</td>\n",
       "      <td>907717</td>\n",
       "      <td>1545</td>\n",
       "      <td>AO</td>\n",
       "      <td>18.39</td>\n",
       "    </tr>\n",
       "    <tr>\n",
       "      <th>29</th>\n",
       "      <td>29</td>\n",
       "      <td>New Hampshire</td>\n",
       "      <td>1409032</td>\n",
       "      <td>1159668</td>\n",
       "      <td>9349</td>\n",
       "      <td>AO</td>\n",
       "      <td>17.70</td>\n",
       "    </tr>\n",
       "    <tr>\n",
       "      <th>19</th>\n",
       "      <td>19</td>\n",
       "      <td>Maine</td>\n",
       "      <td>1405012</td>\n",
       "      <td>1157930</td>\n",
       "      <td>35380</td>\n",
       "      <td>AO</td>\n",
       "      <td>17.59</td>\n",
       "    </tr>\n",
       "    <tr>\n",
       "      <th>45</th>\n",
       "      <td>45</td>\n",
       "      <td>Vermont</td>\n",
       "      <td>648493</td>\n",
       "      <td>535519</td>\n",
       "      <td>9616</td>\n",
       "      <td>NaN</td>\n",
       "      <td>17.42</td>\n",
       "    </tr>\n",
       "  </tbody>\n",
       "</table>\n",
       "</div>"
      ],
      "text/plain": [
       "    index          State  Population  Adult_Population  sq_miles   Coast  \\\n",
       "6       6    Connecticut     3675069           2947242      5543      AO   \n",
       "48     48  West Virginia     1769979           1421615     24230     NaN   \n",
       "37     37         Oregon     4272371           3446156     98379      PO   \n",
       "9       9        Florida    23372215          18872523     65758  AO, GM   \n",
       "21     21  Massachusetts     7136171           5780452     10554      AO   \n",
       "8       8             DC      702250            572419        68     NaN   \n",
       "39     39   Rhode Island     1112308            907717      1545      AO   \n",
       "29     29  New Hampshire     1409032           1159668      9349      AO   \n",
       "19     19          Maine     1405012           1157930     35380      AO   \n",
       "45     45        Vermont      648493            535519      9616     NaN   \n",
       "\n",
       "    Kids Percentage  \n",
       "6             19.80  \n",
       "48            19.68  \n",
       "37            19.34  \n",
       "9             19.25  \n",
       "21            19.00  \n",
       "8             18.49  \n",
       "39            18.39  \n",
       "29            17.70  \n",
       "19            17.59  \n",
       "45            17.42  "
      ]
     },
     "execution_count": 33,
     "metadata": {},
     "output_type": "execute_result"
    }
   ],
   "source": [
    "df.sort_values(\"Kids Percentage\", ascending = False).tail(10)"
   ]
  },
  {
   "cell_type": "code",
   "execution_count": 34,
   "id": "dc06c9cf-2906-4cdd-9c22-1f899871f8f3",
   "metadata": {},
   "outputs": [
    {
     "data": {
      "text/html": [
       "<div>\n",
       "<style scoped>\n",
       "    .dataframe tbody tr th:only-of-type {\n",
       "        vertical-align: middle;\n",
       "    }\n",
       "\n",
       "    .dataframe tbody tr th {\n",
       "        vertical-align: top;\n",
       "    }\n",
       "\n",
       "    .dataframe thead th {\n",
       "        text-align: right;\n",
       "    }\n",
       "</style>\n",
       "<table border=\"1\" class=\"dataframe\">\n",
       "  <thead>\n",
       "    <tr style=\"text-align: right;\">\n",
       "      <th></th>\n",
       "      <th>Player Name</th>\n",
       "      <th>Salary</th>\n",
       "      <th>Position</th>\n",
       "      <th>Age</th>\n",
       "      <th>Team</th>\n",
       "    </tr>\n",
       "  </thead>\n",
       "  <tbody>\n",
       "    <tr>\n",
       "      <th>0</th>\n",
       "      <td>Stephen Curry</td>\n",
       "      <td>48070014</td>\n",
       "      <td>PG</td>\n",
       "      <td>34</td>\n",
       "      <td>GSW</td>\n",
       "    </tr>\n",
       "    <tr>\n",
       "      <th>1</th>\n",
       "      <td>John Wall</td>\n",
       "      <td>47345760</td>\n",
       "      <td>PG</td>\n",
       "      <td>32</td>\n",
       "      <td>LAC</td>\n",
       "    </tr>\n",
       "    <tr>\n",
       "      <th>2</th>\n",
       "      <td>Russell Westbrook</td>\n",
       "      <td>47080179</td>\n",
       "      <td>PG</td>\n",
       "      <td>34</td>\n",
       "      <td>LAL/LAC</td>\n",
       "    </tr>\n",
       "    <tr>\n",
       "      <th>3</th>\n",
       "      <td>LeBron James</td>\n",
       "      <td>44474988</td>\n",
       "      <td>PF</td>\n",
       "      <td>38</td>\n",
       "      <td>LAL</td>\n",
       "    </tr>\n",
       "    <tr>\n",
       "      <th>4</th>\n",
       "      <td>Kevin Durant</td>\n",
       "      <td>44119845</td>\n",
       "      <td>PF</td>\n",
       "      <td>34</td>\n",
       "      <td>BRK/PHO</td>\n",
       "    </tr>\n",
       "  </tbody>\n",
       "</table>\n",
       "</div>"
      ],
      "text/plain": [
       "         Player Name    Salary Position  Age     Team\n",
       "0      Stephen Curry  48070014       PG   34      GSW\n",
       "1          John Wall  47345760       PG   32      LAC\n",
       "2  Russell Westbrook  47080179       PG   34  LAL/LAC\n",
       "3       LeBron James  44474988       PF   38      LAL\n",
       "4       Kevin Durant  44119845       PF   34  BRK/PHO"
      ]
     },
     "execution_count": 34,
     "metadata": {},
     "output_type": "execute_result"
    }
   ],
   "source": [
    "bb = pd.read_csv(\"nba2022-23salary_small.csv\")\n",
    "bb.head()"
   ]
  },
  {
   "cell_type": "code",
   "execution_count": 35,
   "id": "62ff6531-159a-4490-8ab5-47e728fb2582",
   "metadata": {},
   "outputs": [
    {
     "data": {
      "text/plain": [
       "(467, 5)"
      ]
     },
     "execution_count": 35,
     "metadata": {},
     "output_type": "execute_result"
    }
   ],
   "source": [
    "bb.shape"
   ]
  },
  {
   "cell_type": "code",
   "execution_count": 37,
   "id": "e4c0ba00-3aa9-45b7-a75e-15db1d8e621d",
   "metadata": {},
   "outputs": [
    {
     "data": {
      "text/plain": [
       "Player Name    object\n",
       "Salary          int64\n",
       "Position       object\n",
       "Age             int64\n",
       "Team           object\n",
       "dtype: object"
      ]
     },
     "execution_count": 37,
     "metadata": {},
     "output_type": "execute_result"
    }
   ],
   "source": [
    "bb.dtypes"
   ]
  },
  {
   "cell_type": "code",
   "execution_count": 38,
   "id": "be55297c-584d-4660-bbd9-29e018106bb1",
   "metadata": {},
   "outputs": [
    {
     "data": {
      "text/html": [
       "<div>\n",
       "<style scoped>\n",
       "    .dataframe tbody tr th:only-of-type {\n",
       "        vertical-align: middle;\n",
       "    }\n",
       "\n",
       "    .dataframe tbody tr th {\n",
       "        vertical-align: top;\n",
       "    }\n",
       "\n",
       "    .dataframe thead th {\n",
       "        text-align: right;\n",
       "    }\n",
       "</style>\n",
       "<table border=\"1\" class=\"dataframe\">\n",
       "  <thead>\n",
       "    <tr style=\"text-align: right;\">\n",
       "      <th></th>\n",
       "      <th>Salary</th>\n",
       "      <th>Age</th>\n",
       "    </tr>\n",
       "  </thead>\n",
       "  <tbody>\n",
       "    <tr>\n",
       "      <th>count</th>\n",
       "      <td>4.670000e+02</td>\n",
       "      <td>467.000000</td>\n",
       "    </tr>\n",
       "    <tr>\n",
       "      <th>mean</th>\n",
       "      <td>8.416599e+06</td>\n",
       "      <td>25.820128</td>\n",
       "    </tr>\n",
       "    <tr>\n",
       "      <th>std</th>\n",
       "      <td>1.070812e+07</td>\n",
       "      <td>4.275113</td>\n",
       "    </tr>\n",
       "    <tr>\n",
       "      <th>min</th>\n",
       "      <td>5.849000e+03</td>\n",
       "      <td>19.000000</td>\n",
       "    </tr>\n",
       "    <tr>\n",
       "      <th>25%</th>\n",
       "      <td>1.782621e+06</td>\n",
       "      <td>23.000000</td>\n",
       "    </tr>\n",
       "    <tr>\n",
       "      <th>50%</th>\n",
       "      <td>3.722040e+06</td>\n",
       "      <td>25.000000</td>\n",
       "    </tr>\n",
       "    <tr>\n",
       "      <th>75%</th>\n",
       "      <td>1.063354e+07</td>\n",
       "      <td>29.000000</td>\n",
       "    </tr>\n",
       "    <tr>\n",
       "      <th>max</th>\n",
       "      <td>4.807001e+07</td>\n",
       "      <td>42.000000</td>\n",
       "    </tr>\n",
       "  </tbody>\n",
       "</table>\n",
       "</div>"
      ],
      "text/plain": [
       "             Salary         Age\n",
       "count  4.670000e+02  467.000000\n",
       "mean   8.416599e+06   25.820128\n",
       "std    1.070812e+07    4.275113\n",
       "min    5.849000e+03   19.000000\n",
       "25%    1.782621e+06   23.000000\n",
       "50%    3.722040e+06   25.000000\n",
       "75%    1.063354e+07   29.000000\n",
       "max    4.807001e+07   42.000000"
      ]
     },
     "execution_count": 38,
     "metadata": {},
     "output_type": "execute_result"
    }
   ],
   "source": [
    "bb.describe()"
   ]
  },
  {
   "cell_type": "code",
   "execution_count": 39,
   "id": "731f67b7-fa42-4eda-8aaa-848f9d3fddd2",
   "metadata": {},
   "outputs": [
    {
     "data": {
      "text/plain": [
       "np.float64(25.820128479657388)"
      ]
     },
     "execution_count": 39,
     "metadata": {},
     "output_type": "execute_result"
    }
   ],
   "source": [
    "bb[\"Age\"].mean()"
   ]
  },
  {
   "cell_type": "code",
   "execution_count": 40,
   "id": "52a5f197-cfd4-4c91-9413-f88da37d7707",
   "metadata": {},
   "outputs": [
    {
     "data": {
      "text/plain": [
       "np.float64(25.0)"
      ]
     },
     "execution_count": 40,
     "metadata": {},
     "output_type": "execute_result"
    }
   ],
   "source": [
    "bb[\"Age\"].median()"
   ]
  },
  {
   "cell_type": "code",
   "execution_count": 41,
   "id": "93b0d5ea-21ff-4a7d-b813-5bd048f2d1a8",
   "metadata": {},
   "outputs": [
    {
     "data": {
      "text/plain": [
       "np.float64(8416598.74732334)"
      ]
     },
     "execution_count": 41,
     "metadata": {},
     "output_type": "execute_result"
    }
   ],
   "source": [
    "bb[\"Salary\"].mean()"
   ]
  },
  {
   "cell_type": "code",
   "execution_count": 42,
   "id": "65ae37aa-0619-4d3e-a6ff-d1cfa1dc430e",
   "metadata": {},
   "outputs": [
    {
     "data": {
      "text/plain": [
       "np.float64(3722040.0)"
      ]
     },
     "execution_count": 42,
     "metadata": {},
     "output_type": "execute_result"
    }
   ],
   "source": [
    "bb[\"Salary\"].median()"
   ]
  },
  {
   "cell_type": "code",
   "execution_count": 45,
   "id": "c78cef3b-7bfc-403a-892d-5749a875b12b",
   "metadata": {},
   "outputs": [
    {
     "data": {
      "image/png": "[encoded data removed]",
      "text/plain": [
       "<Figure size 640x480 with 1 Axes>"
      ]
     },
     "metadata": {},
     "output_type": "display_data"
    }
   ],
   "source": [
    "bb.plot(\"Age\", \"Salary\")\n",
    "plt.title(\"Age and Salary\")\n",
    "plt.xlabel(\"Age\")\n",
    "plt.ylabel(\"Salary\")\n",
    "plt.show()"
   ]
  },
  {
   "cell_type": "code",
   "execution_count": 46,
   "id": "043b1c36-8ded-41cf-bcb9-064e496aa9e6",
   "metadata": {},
   "outputs": [
    {
     "data": {
      "text/plain": [
       "Position\n",
       "SG       115\n",
       "SF        91\n",
       "C         91\n",
       "PF        86\n",
       "PG        77\n",
       "PG-SG      2\n",
       "SF-SG      2\n",
       "SG-PG      2\n",
       "SF-PF      1\n",
       "Name: count, dtype: int64"
      ]
     },
     "execution_count": 46,
     "metadata": {},
     "output_type": "execute_result"
    }
   ],
   "source": [
    "bb[\"Position\"].value_counts()"
   ]
  },
  {
   "cell_type": "code",
   "execution_count": 49,
   "id": "999dd17e-0306-4df0-ae28-ef6610206a3e",
   "metadata": {},
   "outputs": [
    {
     "data": {
      "text/html": [
       "<div>\n",
       "<style scoped>\n",
       "    .dataframe tbody tr th:only-of-type {\n",
       "        vertical-align: middle;\n",
       "    }\n",
       "\n",
       "    .dataframe tbody tr th {\n",
       "        vertical-align: top;\n",
       "    }\n",
       "\n",
       "    .dataframe thead th {\n",
       "        text-align: right;\n",
       "    }\n",
       "</style>\n",
       "<table border=\"1\" class=\"dataframe\">\n",
       "  <thead>\n",
       "    <tr style=\"text-align: right;\">\n",
       "      <th></th>\n",
       "      <th>Player Name</th>\n",
       "      <th>Salary</th>\n",
       "      <th>Position</th>\n",
       "      <th>Age</th>\n",
       "      <th>Team</th>\n",
       "    </tr>\n",
       "  </thead>\n",
       "  <tbody>\n",
       "    <tr>\n",
       "      <th>11</th>\n",
       "      <td>Kyrie Irving</td>\n",
       "      <td>38917057</td>\n",
       "      <td>PG-SG</td>\n",
       "      <td>30</td>\n",
       "      <td>BRK/DAL</td>\n",
       "    </tr>\n",
       "    <tr>\n",
       "      <th>223</th>\n",
       "      <td>George Hill</td>\n",
       "      <td>4000000</td>\n",
       "      <td>PG-SG</td>\n",
       "      <td>36</td>\n",
       "      <td>MIL/IND</td>\n",
       "    </tr>\n",
       "  </tbody>\n",
       "</table>\n",
       "</div>"
      ],
      "text/plain": [
       "      Player Name    Salary Position  Age     Team\n",
       "11   Kyrie Irving  38917057    PG-SG   30  BRK/DAL\n",
       "223   George Hill   4000000    PG-SG   36  MIL/IND"
      ]
     },
     "execution_count": 49,
     "metadata": {},
     "output_type": "execute_result"
    }
   ],
   "source": [
    "bb.loc[bb[\"Position\"] == \"PG-SG\"]"
   ]
  },
  {
   "cell_type": "code",
   "execution_count": 52,
   "id": "fb50741b-a9e9-4c0f-9456-f0f4d3cd5361",
   "metadata": {},
   "outputs": [
    {
     "data": {
      "text/html": [
       "<div>\n",
       "<style scoped>\n",
       "    .dataframe tbody tr th:only-of-type {\n",
       "        vertical-align: middle;\n",
       "    }\n",
       "\n",
       "    .dataframe tbody tr th {\n",
       "        vertical-align: top;\n",
       "    }\n",
       "\n",
       "    .dataframe thead th {\n",
       "        text-align: right;\n",
       "    }\n",
       "</style>\n",
       "<table border=\"1\" class=\"dataframe\">\n",
       "  <thead>\n",
       "    <tr style=\"text-align: right;\">\n",
       "      <th></th>\n",
       "      <th>Player Name</th>\n",
       "      <th>Salary</th>\n",
       "      <th>Position</th>\n",
       "      <th>Age</th>\n",
       "      <th>Team</th>\n",
       "    </tr>\n",
       "  </thead>\n",
       "  <tbody>\n",
       "    <tr>\n",
       "      <th>63</th>\n",
       "      <td>Spencer Dinwiddie</td>\n",
       "      <td>19500000</td>\n",
       "      <td>SG-PG</td>\n",
       "      <td>29</td>\n",
       "      <td>BRK/DAL</td>\n",
       "    </tr>\n",
       "    <tr>\n",
       "      <th>91</th>\n",
       "      <td>Patrick Beverley</td>\n",
       "      <td>13801614</td>\n",
       "      <td>SG-PG</td>\n",
       "      <td>34</td>\n",
       "      <td>LAL/CHI</td>\n",
       "    </tr>\n",
       "  </tbody>\n",
       "</table>\n",
       "</div>"
      ],
      "text/plain": [
       "          Player Name    Salary Position  Age     Team\n",
       "63  Spencer Dinwiddie  19500000    SG-PG   29  BRK/DAL\n",
       "91   Patrick Beverley  13801614    SG-PG   34  LAL/CHI"
      ]
     },
     "execution_count": 52,
     "metadata": {},
     "output_type": "execute_result"
    }
   ],
   "source": [
    "bb.loc[bb[\"Position\"] == \"SG-PG\"]"
   ]
  },
  {
   "cell_type": "code",
   "execution_count": 73,
   "id": "a718163f-181c-4a00-9575-9e456bac84af",
   "metadata": {},
   "outputs": [],
   "source": [
    "recode_mapping = {\n",
    "    'PG-SF':'PG',\n",
    "    'SF-SG': 'SF',\n",
    "    'SG-PG': 'SG', \n",
    "    'SF-PF': 'SF',\n",
    "    'PG-SG': 'PG'\n",
    "}"
   ]
  },
  {
   "cell_type": "code",
   "execution_count": 74,
   "id": "4ea28ac0-6931-4969-a692-f3603c05c57d",
   "metadata": {},
   "outputs": [],
   "source": [
    "bb['Position'] = bb['Position'].replace(recode_mapping)"
   ]
  },
  {
   "cell_type": "code",
   "execution_count": 75,
   "id": "af35734a-2e99-4713-b8b2-a961299a9be5",
   "metadata": {},
   "outputs": [
    {
     "data": {
      "text/plain": [
       "Position\n",
       "SG    119\n",
       "SF     94\n",
       "C      91\n",
       "PF     86\n",
       "PG     77\n",
       "Name: count, dtype: int64"
      ]
     },
     "execution_count": 75,
     "metadata": {},
     "output_type": "execute_result"
    }
   ],
   "source": [
    "bb['Position'].value_counts()"
   ]
  },
  {
   "cell_type": "code",
   "execution_count": 76,
   "id": "1d91561b-0dfd-458e-a077-c9a6cb10dc55",
   "metadata": {},
   "outputs": [],
   "source": [
    "sg = bb.loc[bb['Position'] == \"SG\"]"
   ]
  },
  {
   "cell_type": "code",
   "execution_count": 77,
   "id": "347033b4-e6f2-4a23-86b3-efe7d8416768",
   "metadata": {},
   "outputs": [
    {
     "data": {
      "text/html": [
       "<div>\n",
       "<style scoped>\n",
       "    .dataframe tbody tr th:only-of-type {\n",
       "        vertical-align: middle;\n",
       "    }\n",
       "\n",
       "    .dataframe tbody tr th {\n",
       "        vertical-align: top;\n",
       "    }\n",
       "\n",
       "    .dataframe thead th {\n",
       "        text-align: right;\n",
       "    }\n",
       "</style>\n",
       "<table border=\"1\" class=\"dataframe\">\n",
       "  <thead>\n",
       "    <tr style=\"text-align: right;\">\n",
       "      <th></th>\n",
       "      <th>Player Name</th>\n",
       "      <th>Salary</th>\n",
       "      <th>Position</th>\n",
       "      <th>Age</th>\n",
       "      <th>Team</th>\n",
       "    </tr>\n",
       "  </thead>\n",
       "  <tbody>\n",
       "    <tr>\n",
       "      <th>5</th>\n",
       "      <td>Bradley Beal</td>\n",
       "      <td>43279250</td>\n",
       "      <td>SG</td>\n",
       "      <td>29</td>\n",
       "      <td>WAS</td>\n",
       "    </tr>\n",
       "    <tr>\n",
       "      <th>11</th>\n",
       "      <td>Kyrie Irving</td>\n",
       "      <td>38917057</td>\n",
       "      <td>SG</td>\n",
       "      <td>30</td>\n",
       "      <td>BRK/DAL</td>\n",
       "    </tr>\n",
       "    <tr>\n",
       "      <th>19</th>\n",
       "      <td>Zach LaVine</td>\n",
       "      <td>37096500</td>\n",
       "      <td>SG</td>\n",
       "      <td>27</td>\n",
       "      <td>CHI</td>\n",
       "    </tr>\n",
       "    <tr>\n",
       "      <th>25</th>\n",
       "      <td>Devin Booker</td>\n",
       "      <td>33833400</td>\n",
       "      <td>SG</td>\n",
       "      <td>26</td>\n",
       "      <td>PHO</td>\n",
       "    </tr>\n",
       "    <tr>\n",
       "      <th>28</th>\n",
       "      <td>CJ McCollum</td>\n",
       "      <td>33333333</td>\n",
       "      <td>SG</td>\n",
       "      <td>31</td>\n",
       "      <td>NOP</td>\n",
       "    </tr>\n",
       "  </tbody>\n",
       "</table>\n",
       "</div>"
      ],
      "text/plain": [
       "     Player Name    Salary Position  Age     Team\n",
       "5   Bradley Beal  43279250       SG   29      WAS\n",
       "11  Kyrie Irving  38917057       SG   30  BRK/DAL\n",
       "19   Zach LaVine  37096500       SG   27      CHI\n",
       "25  Devin Booker  33833400       SG   26      PHO\n",
       "28   CJ McCollum  33333333       SG   31      NOP"
      ]
     },
     "execution_count": 77,
     "metadata": {},
     "output_type": "execute_result"
    }
   ],
   "source": [
    "sg.head()"
   ]
  },
  {
   "cell_type": "code",
   "execution_count": 78,
   "id": "f90421a3-12bc-46ea-b26e-bb4ad3326697",
   "metadata": {},
   "outputs": [
    {
     "name": "stdout",
     "output_type": "stream",
     "text": [
      "7097212.663865546\n"
     ]
    }
   ],
   "source": [
    "print(sg[\"Salary\"].mean())"
   ]
  },
  {
   "cell_type": "code",
   "execution_count": 80,
   "id": "308b7aa4-d11c-4b7d-9916-50250883c580",
   "metadata": {},
   "outputs": [
    {
     "data": {
      "text/plain": [
       "np.float64(7.0972126638655455)"
      ]
     },
     "execution_count": 80,
     "metadata": {},
     "output_type": "execute_result"
    }
   ],
   "source": [
    "bb.loc[bb['Position']==\"SG\"]['Salary'].mean()/1000000"
   ]
  },
  {
   "cell_type": "code",
   "execution_count": 81,
   "id": "19754c17-3236-4179-8032-57f40940056c",
   "metadata": {},
   "outputs": [
    {
     "data": {
      "text/plain": [
       "np.float64(8.165048287234043)"
      ]
     },
     "execution_count": 81,
     "metadata": {},
     "output_type": "execute_result"
    }
   ],
   "source": [
    "bb.loc[bb['Position']==\"SF\"]['Salary'].mean()/1000000"
   ]
  },
  {
   "cell_type": "code",
   "execution_count": 82,
   "id": "c13a41c5-2e1f-445b-ae16-b7eb99814745",
   "metadata": {},
   "outputs": [
    {
     "data": {
      "text/plain": [
       "np.float64(7.28272210989011)"
      ]
     },
     "execution_count": 82,
     "metadata": {},
     "output_type": "execute_result"
    }
   ],
   "source": [
    "bb.loc[bb['Position']==\"C\"]['Salary'].mean()/1000000"
   ]
  },
  {
   "cell_type": "code",
   "execution_count": 83,
   "id": "ef526926-6f37-4b02-b680-71a5a30ca308",
   "metadata": {},
   "outputs": [
    {
     "data": {
      "text/plain": [
       "np.float64(8.88504534883721)"
      ]
     },
     "execution_count": 83,
     "metadata": {},
     "output_type": "execute_result"
    }
   ],
   "source": [
    "bb.loc[bb['Position']==\"PF\"]['Salary'].mean()/1000000"
   ]
  },
  {
   "cell_type": "code",
   "execution_count": 84,
   "id": "b747e0e7-7e12-45e5-9610-c088c45d5786",
   "metadata": {},
   "outputs": [
    {
     "data": {
      "text/plain": [
       "np.float64(11.579573467532468)"
      ]
     },
     "execution_count": 84,
     "metadata": {},
     "output_type": "execute_result"
    }
   ],
   "source": [
    "bb.loc[bb['Position']==\"PG\"]['Salary'].mean()/1000000"
   ]
  },
  {
   "cell_type": "code",
   "execution_count": 94,
   "id": "d69b800a-1b32-4a13-bb85-2427eb74e5ce",
   "metadata": {},
   "outputs": [
    {
     "data": {
      "text/html": [
       "<div>\n",
       "<style scoped>\n",
       "    .dataframe tbody tr th:only-of-type {\n",
       "        vertical-align: middle;\n",
       "    }\n",
       "\n",
       "    .dataframe tbody tr th {\n",
       "        vertical-align: top;\n",
       "    }\n",
       "\n",
       "    .dataframe thead th {\n",
       "        text-align: right;\n",
       "    }\n",
       "</style>\n",
       "<table border=\"1\" class=\"dataframe\">\n",
       "  <thead>\n",
       "    <tr style=\"text-align: right;\">\n",
       "      <th></th>\n",
       "      <th>Salary</th>\n",
       "    </tr>\n",
       "    <tr>\n",
       "      <th>Position</th>\n",
       "      <th></th>\n",
       "    </tr>\n",
       "  </thead>\n",
       "  <tbody>\n",
       "    <tr>\n",
       "      <th>PG</th>\n",
       "      <td>1.157957e+07</td>\n",
       "    </tr>\n",
       "    <tr>\n",
       "      <th>PF</th>\n",
       "      <td>8.885045e+06</td>\n",
       "    </tr>\n",
       "    <tr>\n",
       "      <th>SF</th>\n",
       "      <td>8.165048e+06</td>\n",
       "    </tr>\n",
       "    <tr>\n",
       "      <th>C</th>\n",
       "      <td>7.282722e+06</td>\n",
       "    </tr>\n",
       "    <tr>\n",
       "      <th>SG</th>\n",
       "      <td>7.097213e+06</td>\n",
       "    </tr>\n",
       "  </tbody>\n",
       "</table>\n",
       "</div>"
      ],
      "text/plain": [
       "                Salary\n",
       "Position              \n",
       "PG        1.157957e+07\n",
       "PF        8.885045e+06\n",
       "SF        8.165048e+06\n",
       "C         7.282722e+06\n",
       "SG        7.097213e+06"
      ]
     },
     "execution_count": 94,
     "metadata": {},
     "output_type": "execute_result"
    }
   ],
   "source": [
    "bb_means = bb[['Position', 'Salary']].groupby(\"Position\").mean()\n",
    "bb_means.sort_values(\"Salary\", ascending = False)"
   ]
  },
  {
   "cell_type": "code",
   "execution_count": 95,
   "id": "0f7809d3-4209-4dff-a5fc-6d613d81d71c",
   "metadata": {},
   "outputs": [
    {
     "data": {
      "text/html": [
       "<div>\n",
       "<style scoped>\n",
       "    .dataframe tbody tr th:only-of-type {\n",
       "        vertical-align: middle;\n",
       "    }\n",
       "\n",
       "    .dataframe tbody tr th {\n",
       "        vertical-align: top;\n",
       "    }\n",
       "\n",
       "    .dataframe thead th {\n",
       "        text-align: right;\n",
       "    }\n",
       "</style>\n",
       "<table border=\"1\" class=\"dataframe\">\n",
       "  <thead>\n",
       "    <tr style=\"text-align: right;\">\n",
       "      <th></th>\n",
       "      <th>Salary</th>\n",
       "    </tr>\n",
       "    <tr>\n",
       "      <th>Position</th>\n",
       "      <th></th>\n",
       "    </tr>\n",
       "  </thead>\n",
       "  <tbody>\n",
       "    <tr>\n",
       "      <th>C</th>\n",
       "      <td>8.983558e+06</td>\n",
       "    </tr>\n",
       "    <tr>\n",
       "      <th>PF</th>\n",
       "      <td>1.089779e+07</td>\n",
       "    </tr>\n",
       "    <tr>\n",
       "      <th>PG</th>\n",
       "      <td>1.388934e+07</td>\n",
       "    </tr>\n",
       "    <tr>\n",
       "      <th>SF</th>\n",
       "      <td>1.096619e+07</td>\n",
       "    </tr>\n",
       "    <tr>\n",
       "      <th>SG</th>\n",
       "      <td>8.786789e+06</td>\n",
       "    </tr>\n",
       "  </tbody>\n",
       "</table>\n",
       "</div>"
      ],
      "text/plain": [
       "                Salary\n",
       "Position              \n",
       "C         8.983558e+06\n",
       "PF        1.089779e+07\n",
       "PG        1.388934e+07\n",
       "SF        1.096619e+07\n",
       "SG        8.786789e+06"
      ]
     },
     "execution_count": 95,
     "metadata": {},
     "output_type": "execute_result"
    }
   ],
   "source": [
    "bb[['Position', 'Salary']].groupby(\"Position\").std()"
   ]
  },
  {
   "cell_type": "code",
   "execution_count": 108,
   "id": "60c1835e-93d4-4706-a5ff-c4d600a48700",
   "metadata": {},
   "outputs": [
    {
     "data": {
      "text/plain": [
       "Text(0.5, 0, 'Number of player (hundreds)')"
      ]
     },
     "execution_count": 108,
     "metadata": {},
     "output_type": "execute_result"
    },
    {
     "data": {
      "image/png": "[encoded data removed]",
      "text/plain": [
       "<Figure size 640x480 with 1 Axes>"
      ]
     },
     "metadata": {},
     "output_type": "display_data"
    }
   ],
   "source": [
    "bb[\"Salary\"].hist(bins = 20)\n",
    "plt.title(\"Salary Histogram\")\n",
    "plt.ylabel(\"Salary in ($) millions\")\n",
    "plt.xlabel(\"Number of player (hundreds)\")"
   ]
  },
  {
   "cell_type": "code",
   "execution_count": 110,
   "id": "22060387-56d6-4d1a-9df4-26abc6c398f7",
   "metadata": {},
   "outputs": [
    {
     "name": "stdout",
     "output_type": "stream",
     "text": [
      "This distribution is \"right skewed\".\n"
     ]
    }
   ],
   "source": [
    "print('This distribution is \"right skewed\".')"
   ]
  },
  {
   "cell_type": "code",
   "execution_count": 113,
   "id": "5bed126a-b333-46af-925d-c4457154e1f0",
   "metadata": {},
   "outputs": [
    {
     "data": {
      "text/plain": [
       "np.float64(8416598.74732334)"
      ]
     },
     "execution_count": 113,
     "metadata": {},
     "output_type": "execute_result"
    }
   ],
   "source": [
    "bb[\"Salary\"].mean()"
   ]
  },
  {
   "cell_type": "code",
   "execution_count": 114,
   "id": "bb54ab0b-c5d6-4678-9539-0a41a71aedd1",
   "metadata": {},
   "outputs": [
    {
     "data": {
      "text/plain": [
       "np.float64(3722040.0)"
      ]
     },
     "execution_count": 114,
     "metadata": {},
     "output_type": "execute_result"
    }
   ],
   "source": [
    "bb[\"Salary\"].median()"
   ]
  },
  {
   "cell_type": "code",
   "execution_count": 116,
   "id": "707de261-713c-43c7-89e7-537db54a9690",
   "metadata": {},
   "outputs": [
    {
     "data": {
      "text/plain": [
       "count     0.000467\n",
       "mean      8.416599\n",
       "std      10.708118\n",
       "min       0.005849\n",
       "25%       1.782621\n",
       "50%       3.722040\n",
       "75%      10.633544\n",
       "max      48.070014\n",
       "Name: Salary, dtype: float64"
      ]
     },
     "execution_count": 116,
     "metadata": {},
     "output_type": "execute_result"
    }
   ],
   "source": [
    "bb[\"Salary\"].describe()/1000000"
   ]
  },
  {
   "cell_type": "code",
   "execution_count": 119,
   "id": "8a29bb71-8ea9-45f2-a0d3-c6b77540e883",
   "metadata": {},
   "outputs": [
    {
     "data": {
      "text/plain": [
       "Text(0, 0.5, 'players in hundreds')"
      ]
     },
     "execution_count": 119,
     "metadata": {},
     "output_type": "execute_result"
    },
    {
     "data": {
      "image/png": "[encoded data removed]",
      "text/plain": [
       "<Figure size 640x480 with 1 Axes>"
      ]
     },
     "metadata": {},
     "output_type": "display_data"
    }
   ],
   "source": [
    "bb.boxplot(\"Salary\")\n",
    "plt.title(\"Salary Boxplot\")\n",
    "#plt.xlabel(\"Salary\")\n",
    "plt.ylabel(\"players in hundreds\")"
   ]
  },
  {
   "cell_type": "code",
   "execution_count": null,
   "id": "a89299cd-bb4e-4b81-a09d-9460cf41109b",
   "metadata": {},
   "outputs": [],
   "source": []
  }
 ],
 "metadata": {
  "kernelspec": {
   "display_name": "Python 3 (ipykernel)",
   "language": "python",
   "name": "python3"
  },
  "language_info": {
   "codemirror_mode": {
    "name": "ipython",
    "version": 3
   },
   "file_extension": ".py",
   "mimetype": "text/x-python",
   "name": "python",
   "nbconvert_exporter": "python",
   "pygments_lexer": "ipython3",
   "version": "3.13.7"
  }
 },
 "nbformat": 4,
 "nbformat_minor": 5
}
