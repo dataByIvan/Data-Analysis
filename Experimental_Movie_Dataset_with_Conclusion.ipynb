{
 "cells": [
  {
   "cell_type": "markdown",
   "id": "afd65174",
   "metadata": {},
   "source": [
    "**Movie Dataset Project**\n",
    "\n",
    "**By: Ivan Yu**"
   ]
  },
  {
   "cell_type": "markdown",
   "id": "bc494370",
   "metadata": {},
   "source": [
    "**Goal (Defining the problem): This project is going to focus on finding information in a movies data set,\n",
    "where we try to extract meaningful data and hidden meanings/correlations/causations behind trends.**\n"
   ]
  },
  {
   "cell_type": "markdown",
   "id": "f6afdb2f",
   "metadata": {},
   "source": [
    "**Source of data set: https://www.kaggle.com/datasets/carolzhangdc/imdb-5000-movie-dataset/code?datasetId=7181&sortBy=voteCount**"
   ]
  },
  {
   "cell_type": "code",
   "execution_count": null,
   "id": "ecd13114",
   "metadata": {},
   "outputs": [],
   "source": [
    "import pandas as pd"
   ]
  },
  {
   "cell_type": "code",
   "execution_count": null,
   "id": "31e612ea",
   "metadata": {},
   "outputs": [],
   "source": [
    "df = pd.read_csv(\"movie_metadata.csv\")\n",
    "df.head()\n",
    "\n",
    "#2. Data Collection and Preparation"
   ]
  },
  {
   "cell_type": "code",
   "execution_count": null,
   "id": "04aa07db",
   "metadata": {},
   "outputs": [],
   "source": [
    "# Let's see if there's any correlation between gross and budget of the movie\n",
    "# 3. Data Exploration and Analysis\n",
    "import matplotlib.pyplot as plt"
   ]
  },
  {
   "cell_type": "code",
   "execution_count": null,
   "id": "9ada44e8",
   "metadata": {},
   "outputs": [],
   "source": [
    "plt.figure(figsize=(10,5))\n",
    "plt.scatter(df['budget'], df['gross'], alpha=0.5)\n",
    "plt.xlabel(\"budget\")\n",
    "plt.ylabel(\"gross\")\n",
    "plt.title(\"Budget vs Gross\")\n",
    "plt.show()\n",
    "# low correlation"
   ]
  },
  {
   "cell_type": "markdown",
   "id": "751a6f55",
   "metadata": {},
   "source": [
    "**We can see that just because a movie has a higher budget, it does not mean that the gross will be higher**"
   ]
  },
  {
   "cell_type": "markdown",
   "id": "c32228ad",
   "metadata": {},
   "source": [
    "**Let's clean the table a little bit, dropping rows with missing data**"
   ]
  },
  {
   "cell_type": "code",
   "execution_count": null,
   "id": "0805fe42",
   "metadata": {},
   "outputs": [],
   "source": [
    "df = df.dropna(subset=[\"budget\", \"gross\"]) #Drops the rows with missing values\n",
    "df.head()"
   ]
  },
  {
   "cell_type": "code",
   "execution_count": null,
   "id": "9d77c0b8",
   "metadata": {},
   "outputs": [],
   "source": [
    "# Taking a look at any correlation between score and gross\n",
    "plt.figure(figsize=(7,6))\n",
    "plt.scatter(df['imdb_score'],df['gross'], alpha=1)\n",
    "plt.xlabel('imdb_score')\n",
    "plt.ylabel('gross')\n",
    "plt.title(\"Score vs Gross\")\n",
    "plt.show()\n",
    "#Correlation found! "
   ]
  },
  {
   "cell_type": "markdown",
   "id": "588fe6e1",
   "metadata": {},
   "source": [
    "**Nice! It looks like there is a positive correlation between the score the movie recieved and the gross!**"
   ]
  },
  {
   "cell_type": "markdown",
   "id": "29f13634",
   "metadata": {},
   "source": [
    "**Let's use one more graph for data exploration**"
   ]
  },
  {
   "cell_type": "code",
   "execution_count": null,
   "id": "44d7ec30",
   "metadata": {},
   "outputs": [],
   "source": [
    "df[\"Profit\"] = df[\"gross\"] - df[\"budget\"]"
   ]
  },
  {
   "cell_type": "code",
   "execution_count": null,
   "id": "91e4fd04",
   "metadata": {},
   "outputs": [],
   "source": [
    "plt.figure(figsize=(10,5))\n",
    "plt.scatter(df['title_year'], df[\"Profit\"], alpha = 0.7)\n",
    "plt.xlabel(\"Year\")\n",
    "plt.ylabel(\"Profit\")\n",
    "plt.title(\"Year vs Profit\")\n",
    "plt.show()"
   ]
  },
  {
   "cell_type": "markdown",
   "id": "55ca7472",
   "metadata": {},
   "source": [
    "**Wow! How interesting. So according to this data, movies were struggling to even break even up until around the year 2000, where profits really started to shine. There are some outliers to this assumption though for sure!**"
   ]
  },
  {
   "cell_type": "code",
   "execution_count": null,
   "id": "e16f9a3d",
   "metadata": {},
   "outputs": [],
   "source": [
    "import numpy as np\n",
    "df.sort_values(\"Profit\", ascending=False).head(1) #The outlier"
   ]
  },
  {
   "cell_type": "markdown",
   "id": "870be12f",
   "metadata": {},
   "source": [
    "**For the data exploration chapter, we notice that movies struggle to break even, but since then has done better starting around the year 2000.\n",
    "We also noticed that just because a movie has a high budget does not correlate with high gross.\n",
    "And finally, we found out there is in fact a POSITIVE correlation between movie gross and score.**"
   ]
  },
  {
   "cell_type": "code",
   "execution_count": null,
   "id": "babcc5d9",
   "metadata": {},
   "outputs": [],
   "source": [
    "df.head(1) #Just to take a look at the columns to find more correlations"
   ]
  },
  {
   "cell_type": "code",
   "execution_count": null,
   "id": "eabaaa96",
   "metadata": {},
   "outputs": [],
   "source": [
    "plt.figure(figsize=(10,5))\n",
    "plt.scatter(df['duration'], df['Profit'])\n",
    "plt.xlabel('Duration')\n",
    "plt.ylabel('Profit')\n",
    "plt.title('Duration vs Profit')\n",
    "plt.show()"
   ]
  },
  {
   "cell_type": "markdown",
   "id": "20bf6a44",
   "metadata": {},
   "source": [
    "**Not Much correlation here**"
   ]
  },
  {
   "cell_type": "code",
   "execution_count": null,
   "id": "5317a243",
   "metadata": {},
   "outputs": [],
   "source": [
    "plt.figure(figsize=(10,5))\n",
    "plt.scatter(df['imdb_score'],df['Profit'])\n",
    "plt.xlabel('imdb_score')\n",
    "plt.ylabel('Profit')\n",
    "plt.title('imdb_score Vs Profit')\n",
    "plt.show()"
   ]
  },
  {
   "cell_type": "markdown",
   "id": "1d58bc02",
   "metadata": {},
   "source": [
    "**Again, not much correlation here**"
   ]
  },
  {
   "cell_type": "code",
   "execution_count": null,
   "id": "c6fdc3b8",
   "metadata": {},
   "outputs": [],
   "source": [
    "plt.figure(figsize=(10,5))\n",
    "plt.scatter(df['num_critic_for_reviews'],df['Profit'])\n",
    "plt.xlabel('Number of Critics')\n",
    "plt.ylabel('Profit')\n",
    "plt.title('# of Critics Vs Profit')\n",
    "plt.show()"
   ]
  },
  {
   "cell_type": "code",
   "execution_count": null,
   "id": "5bf7b18c",
   "metadata": {},
   "outputs": [],
   "source": [
    "df.shape"
   ]
  },
  {
   "cell_type": "code",
   "execution_count": null,
   "id": "94abbec9",
   "metadata": {},
   "outputs": [],
   "source": [
    "df.info()"
   ]
  },
  {
   "cell_type": "code",
   "execution_count": null,
   "id": "fd3c930e",
   "metadata": {},
   "outputs": [],
   "source": [
    "subset = df[['Profit', 'gross', 'title_year', 'director_name', 'cast_total_facebook_likes','movie_facebook_likes', 'genres']]\n",
    "subset.head()"
   ]
  },
  {
   "cell_type": "markdown",
   "id": "c9253bed",
   "metadata": {},
   "source": [
    "**Much easier to look at with columns that are relevant**"
   ]
  },
  {
   "cell_type": "code",
   "execution_count": null,
   "id": "22781d6b",
   "metadata": {},
   "outputs": [],
   "source": [
    "subset.shape"
   ]
  },
  {
   "cell_type": "code",
   "execution_count": null,
   "id": "d1e30a8c",
   "metadata": {},
   "outputs": [],
   "source": [
    "subset.duplicated().sum()"
   ]
  },
  {
   "cell_type": "code",
   "execution_count": null,
   "id": "30e6f7db",
   "metadata": {},
   "outputs": [],
   "source": [
    "#Drop Duplicates to make subset Table a little less messy\n",
    "subset.drop_duplicates()\n"
   ]
  },
  {
   "cell_type": "code",
   "execution_count": null,
   "id": "04b2124d",
   "metadata": {},
   "outputs": [],
   "source": [
    "plt.figure(figsize=(10,5))\n",
    "plt.scatter(subset['movie_facebook_likes'],subset['Profit'])\n",
    "plt.xlabel('Facebook Likes')\n",
    "plt.ylabel('Profit')\n",
    "plt.title('Facebook likes vs Profit')\n",
    "plt.show()"
   ]
  },
  {
   "cell_type": "code",
   "execution_count": null,
   "id": "b6fb9738",
   "metadata": {},
   "outputs": [],
   "source": [
    "#Let's use a funcftion for find more correlation from the 'df' table\n",
    "#df.corr() #(Error because some columns could not be converted into float value)\n",
    "#Let's drop some columns\n",
    "#df = df.drop('actor_2_name', axis =1) #already ran, same with the color column\n",
    "df.head()\n",
    "#df.corr()"
   ]
  },
  {
   "cell_type": "code",
   "execution_count": null,
   "id": "7163c960",
   "metadata": {},
   "outputs": [],
   "source": [
    "#Selecting all columns with numeric values\n",
    "#df.drop(['genres','actor_1_name','movie_title','language','country','content_rating',], axis=1, inplace=True)\n",
    "df.head(1)\n",
    "#Perfect!"
   ]
  },
  {
   "cell_type": "code",
   "execution_count": null,
   "id": "20880195",
   "metadata": {},
   "outputs": [],
   "source": [
    "#df.drop(['actor_3_name','plot_keywords','movie_imdb_link'], axis=1, inplace=True)"
   ]
  },
  {
   "cell_type": "code",
   "execution_count": null,
   "id": "aa7c79d8",
   "metadata": {},
   "outputs": [],
   "source": [
    "df_numeric = df # Differentaite between the original df from earlier and the numeric table where we will run the df.corr() function to find correlations"
   ]
  },
  {
   "cell_type": "code",
   "execution_count": null,
   "id": "b03aa193",
   "metadata": {},
   "outputs": [],
   "source": [
    "df_numeric.drop(['actor_2_name'],axis=1,inplace=True)\n",
    "df_numeric.head(1)"
   ]
  },
  {
   "cell_type": "code",
   "execution_count": null,
   "id": "6b28318c",
   "metadata": {},
   "outputs": [],
   "source": [
    "df_numeric.drop(['genres'],axis=1,inplace=True)"
   ]
  },
  {
   "cell_type": "code",
   "execution_count": null,
   "id": "1891e76b",
   "metadata": {},
   "outputs": [],
   "source": [
    "#df_numeric.drop(['actor_3_name','plot_keywords','movie_imdb_link'],axis=1,inplace=True)\n",
    "#df_numeric.drop(['actor_3_name','plot_keywords','movie_imdb_link'],axis=1,inplace=True)\n",
    "df_numeric_corr = df_numeric.corr()\n",
    "#df_numeric_corr.sort_values('Profit', ascending=False)\n",
    "#df_numeric.shape (3891,17)"
   ]
  },
  {
   "cell_type": "code",
   "execution_count": null,
   "id": "56126d48",
   "metadata": {},
   "outputs": [],
   "source": [
    "df_numeric_corr"
   ]
  },
  {
   "cell_type": "markdown",
   "id": "81aa6748",
   "metadata": {},
   "source": [
    "**Let's do some feature engineering; Basically combining existing data into newer data to extract more insights.**"
   ]
  },
  {
   "cell_type": "code",
   "execution_count": null,
   "id": "e7b64870",
   "metadata": {},
   "outputs": [],
   "source": [
    "df_numeric['Star Power'] = (df_numeric['actor_3_facebook_likes']+ df_numeric['actor_1_facebook_likes'] + df_numeric['director_facebook_likes'] + df_numeric['actor_2_facebook_likes'])"
   ]
  },
  {
   "cell_type": "code",
   "execution_count": null,
   "id": "dde6dbc2",
   "metadata": {},
   "outputs": [],
   "source": [
    "df_numeric.head()"
   ]
  },
  {
   "cell_type": "markdown",
   "id": "0aa7a621",
   "metadata": {},
   "source": [
    "**Nice, so now let's run the 'corr' function again to see if we have can have a better understanding of what's happening here between the shared amount of likes and profits.**"
   ]
  },
  {
   "cell_type": "code",
   "execution_count": null,
   "id": "d9f3116d",
   "metadata": {},
   "outputs": [],
   "source": [
    "df_numeric.sort_values('Profit', ascending=False)"
   ]
  },
  {
   "cell_type": "code",
   "execution_count": null,
   "id": "ef673112",
   "metadata": {},
   "outputs": [],
   "source": [
    "#Let's put the \"profit\" column on the left side of the table for better readability\n",
    "df_numeric = df_numeric[['Profit'] + [col for col in df_numeric.columns if col !='Profit']]\n",
    "df_numeric.head()"
   ]
  },
  {
   "cell_type": "code",
   "execution_count": null,
   "id": "519097f2",
   "metadata": {},
   "outputs": [],
   "source": [
    "df_numeric.corr() #Nice!"
   ]
  },
  {
   "cell_type": "code",
   "execution_count": null,
   "id": "9fec22b0",
   "metadata": {},
   "outputs": [],
   "source": [
    "df.describe()"
   ]
  },
  {
   "cell_type": "code",
   "execution_count": null,
   "id": "1587f775",
   "metadata": {},
   "outputs": [],
   "source": [
    "df_numeric.describe()"
   ]
  },
  {
   "cell_type": "code",
   "execution_count": null,
   "id": "4f4cfd21",
   "metadata": {},
   "outputs": [],
   "source": [
    "import pandas as pd\n",
    "import matplotlib.pyplot as plt\n",
    "import seaborn as sns"
   ]
  },
  {
   "cell_type": "code",
   "execution_count": null,
   "id": "4a291eae",
   "metadata": {},
   "outputs": [],
   "source": [
    "df = df.dropna()"
   ]
  },
  {
   "cell_type": "code",
   "execution_count": null,
   "id": "80384ce2",
   "metadata": {},
   "outputs": [],
   "source": [
    "df.head()"
   ]
  },
  {
   "cell_type": "code",
   "execution_count": null,
   "id": "bc986e23",
   "metadata": {},
   "outputs": [],
   "source": [
    "yearly = df.groupby(\"title_year\").size()"
   ]
  },
  {
   "cell_type": "code",
   "execution_count": null,
   "id": "961460f6",
   "metadata": {},
   "outputs": [],
   "source": [
    "plt.figure(figsize=(10,5))\n",
    "yearly.plot(kind='bar')\n",
    "plt.title('Titles Added Per Year')\n",
    "plt.xlabel('Year')\n",
    "plt.ylabel('Movies Added #')\n",
    "plt.show()"
   ]
  },
  {
   "cell_type": "code",
   "execution_count": null,
   "id": "3ccaa5eb",
   "metadata": {},
   "outputs": [],
   "source": [
    "category = subset.groupby('genres').size()\n",
    "category.sort_values(ascending=False)"
   ]
  },
  {
   "cell_type": "code",
   "execution_count": null,
   "id": "9d29eae4",
   "metadata": {},
   "outputs": [],
   "source": [
    "category_range = category.dropna()\n",
    "category_range.sort_values(ascending=True)\n",
    "genre_popularity = category_range.head(10)"
   ]
  },
  {
   "cell_type": "code",
   "execution_count": null,
   "id": "0029270a",
   "metadata": {},
   "outputs": [],
   "source": [
    "plt.figure(figsize=(10,5))\n",
    "genre_popularity.plot(kind='barh')\n",
    "plt.xlabel('Count')\n",
    "plt.ylabel('Genre')\n",
    "plt.title('Genre by popularity')\n",
    "plt.show()"
   ]
  },
  {
   "cell_type": "code",
   "execution_count": null,
   "id": "5b98a53b",
   "metadata": {},
   "outputs": [],
   "source": []
  },
  {
   "cell_type": "markdown",
   "id": "69d11930-8cb5-443c-868e-b1991766136c",
   "metadata": {},
   "source": [
    "### **Conclusion**\n",
    "\n",
    "This project offered a valuable hands-on experience working with real-world movie data. Through data cleaning, exploratory analysis, and visualizations, I gained deeper insight into the distribution of genres, content trends across time, and factors that potentially influence popularity. Although this dataset had its quirks and limitations, it provided a strong foundation for building my data science workflow. I'm proud of what I learned and produced, even if it isn’t perfect. With this project complete, I’m excited to move on and apply what I’ve learned to new datasets and fresh challenges."
   ]
  }
 ],
 "metadata": {
  "kernelspec": {
   "display_name": "Python 3 (ipykernel)",
   "language": "python",
   "name": "python3"
  },
  "language_info": {
   "codemirror_mode": {
    "name": "ipython",
    "version": 3
   },
   "file_extension": ".py",
   "mimetype": "text/x-python",
   "name": "python",
   "nbconvert_exporter": "python",
   "pygments_lexer": "ipython3",
   "version": "3.12.7"
  }
 },
 "nbformat": 4,
 "nbformat_minor": 5
}
